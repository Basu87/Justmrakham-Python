{
 "cells": [
  {
   "cell_type": "markdown",
   "metadata": {},
   "source": [
    "List properties: ordered, iterable, mutable, can contain multiple data types"
   ]
  },
  {
   "cell_type": "code",
   "execution_count": 3,
   "metadata": {},
   "outputs": [],
   "source": [
    "# create an empty list (two ways\n",
    "empty_List=[]\n",
    "empty_List=list()\n"
   ]
  },
  {
   "cell_type": "code",
   "execution_count": 7,
   "metadata": {},
   "outputs": [
    {
     "data": {
      "text/plain": [
       "['yash', 'yuvan', 'pattanashetti']"
      ]
     },
     "execution_count": 7,
     "metadata": {},
     "output_type": "execute_result"
    }
   ],
   "source": [
    "# create a list\n",
    "basu=['yash','yuvan','pattanashetti']\n",
    "basu"
   ]
  },
  {
   "cell_type": "markdown",
   "metadata": {},
   "source": [
    "Examine a list:"
   ]
  },
  {
   "cell_type": "code",
   "execution_count": 9,
   "metadata": {},
   "outputs": [
    {
     "data": {
      "text/plain": [
       "'yash'"
      ]
     },
     "execution_count": 9,
     "metadata": {},
     "output_type": "execute_result"
    }
   ],
   "source": [
    "# print element 0\n",
    "\n",
    "basu[0]"
   ]
  },
  {
   "cell_type": "code",
   "execution_count": 11,
   "metadata": {},
   "outputs": [
    {
     "data": {
      "text/plain": [
       "3"
      ]
     },
     "execution_count": 11,
     "metadata": {},
     "output_type": "execute_result"
    }
   ],
   "source": [
    "len(basu)"
   ]
  },
  {
   "cell_type": "markdown",
   "metadata": {},
   "source": [
    "Modify a list (does not return the list):"
   ]
  },
  {
   "cell_type": "code",
   "execution_count": 14,
   "metadata": {},
   "outputs": [
    {
     "data": {
      "text/plain": [
       "['yash', 'yuvan', 'pattanashetti', 'gm', 'gm', 'gm']"
      ]
     },
     "execution_count": 14,
     "metadata": {},
     "output_type": "execute_result"
    }
   ],
   "source": [
    "basu.append('gm')\n",
    "basu"
   ]
  },
  {
   "cell_type": "code",
   "execution_count": 20,
   "metadata": {},
   "outputs": [
    {
     "data": {
      "text/plain": [
       "['yash',\n",
       " 'yuvan',\n",
       " 'pattanashetti',\n",
       " 'gm',\n",
       " 'gm',\n",
       " 'gm',\n",
       " ['pm', 'y2b'],\n",
       " ['pm', 'y2b'],\n",
       " ['pm', 'y2b'],\n",
       " ['pm', 'y2b']]"
      ]
     },
     "execution_count": 20,
     "metadata": {},
     "output_type": "execute_result"
    }
   ],
   "source": [
    "# append multiple elements to end\n",
    "basu.append(['pm','y2b'])\n",
    "basu"
   ]
  },
  {
   "cell_type": "code",
   "execution_count": 24,
   "metadata": {},
   "outputs": [
    {
     "data": {
      "text/plain": [
       "['yash',\n",
       " 'yuvan',\n",
       " 'pattanashetti',\n",
       " 'gm',\n",
       " 'gm',\n",
       " 'gm',\n",
       " ['pm', 'y2b'],\n",
       " ['pm', 'y2b'],\n",
       " ['pm', 'y2b'],\n",
       " ['pm', 'y2b'],\n",
       " 'pm',\n",
       " 'y2b',\n",
       " 'pm',\n",
       " 'y2b',\n",
       " 'yashu',\n",
       " 'pm',\n",
       " 'y2b',\n",
       " 'yashu',\n",
       " 'pm',\n",
       " 'y2b',\n",
       " 'yashu']"
      ]
     },
     "execution_count": 24,
     "metadata": {},
     "output_type": "execute_result"
    }
   ],
   "source": [
    "# append multiple elements to end\n",
    "basu.extend(['pm','y2b','yashu'])\n",
    "basu"
   ]
  },
  {
   "cell_type": "code",
   "execution_count": 32,
   "metadata": {},
   "outputs": [
    {
     "data": {
      "text/plain": [
       "['yash',\n",
       " 'b2y',\n",
       " 'b2y',\n",
       " 'b2y',\n",
       " 'yuvan',\n",
       " 'pattanashetti',\n",
       " 'gm',\n",
       " 'gm',\n",
       " 'gm',\n",
       " ['pm', 'y2b'],\n",
       " ['pm', 'y2b'],\n",
       " ['pm', 'y2b'],\n",
       " ['pm', 'y2b'],\n",
       " 'pm',\n",
       " 'pm',\n",
       " 'yashu',\n",
       " 'pm',\n",
       " 'yashu',\n",
       " 'pm',\n",
       " 'yashu']"
      ]
     },
     "execution_count": 32,
     "metadata": {},
     "output_type": "execute_result"
    }
   ],
   "source": [
    "# insert element at index 0 (shifts everything right)\n",
    "basu.insert(1,'b2y')\n",
    "basu"
   ]
  },
  {
   "cell_type": "code",
   "execution_count": 36,
   "metadata": {},
   "outputs": [
    {
     "data": {
      "text/plain": [
       "['yash',\n",
       " 'b2y',\n",
       " 'b2y',\n",
       " 'b2y',\n",
       " 'yuvan',\n",
       " 'pattanashetti',\n",
       " 'gm',\n",
       " 'gm',\n",
       " 'gm',\n",
       " ['pm', 'y2b'],\n",
       " ['pm', 'y2b'],\n",
       " ['pm', 'y2b'],\n",
       " ['pm', 'y2b'],\n",
       " 'pm',\n",
       " 'pm',\n",
       " 'pm',\n",
       " 'pm']"
      ]
     },
     "execution_count": 36,
     "metadata": {},
     "output_type": "execute_result"
    }
   ],
   "source": [
    "# search for first instance and remove it\n",
    "basu.remove('yashu')\n",
    "basu"
   ]
  },
  {
   "cell_type": "code",
   "execution_count": 46,
   "metadata": {},
   "outputs": [
    {
     "data": {
      "text/plain": [
       "['gm',\n",
       " 'gm',\n",
       " 'gm',\n",
       " ['pm', 'y2b'],\n",
       " ['pm', 'y2b'],\n",
       " ['pm', 'y2b'],\n",
       " ['pm', 'y2b'],\n",
       " 'pm',\n",
       " 'pm',\n",
       " 'pm',\n",
       " 'pm']"
      ]
     },
     "execution_count": 46,
     "metadata": {},
     "output_type": "execute_result"
    }
   ],
   "source": [
    "# remove element 0 and return it\n",
    "basu.pop(0)\n",
    "basu"
   ]
  },
  {
   "cell_type": "code",
   "execution_count": 49,
   "metadata": {},
   "outputs": [
    {
     "data": {
      "text/plain": [
       "[['pm', 'y2b'],\n",
       " ['pm', 'y2b'],\n",
       " ['pm', 'y2b'],\n",
       " ['pm', 'y2b'],\n",
       " 'pm',\n",
       " 'pm',\n",
       " 'pm',\n",
       " 'pm']"
      ]
     },
     "execution_count": 49,
     "metadata": {},
     "output_type": "execute_result"
    }
   ],
   "source": [
    "del basu[0]\n",
    "basu"
   ]
  },
  {
   "cell_type": "code",
   "execution_count": 57,
   "metadata": {},
   "outputs": [
    {
     "data": {
      "text/plain": [
       "['yashas', ['pm', 'y2b'], ['pm', 'y2b'], ['pm', 'y2b'], 'pm', 'pm', 'pm', 'pm']"
      ]
     },
     "execution_count": 57,
     "metadata": {},
     "output_type": "execute_result"
    }
   ],
   "source": [
    "basu[0]='yashas'\n",
    "basu"
   ]
  },
  {
   "cell_type": "code",
   "execution_count": 62,
   "metadata": {},
   "outputs": [
    {
     "data": {
      "text/plain": [
       "['yashas', ['pm', 'y2b'], ['pm', 'y2b'], 'y2b', 'pm', 'pm', 'pm', 'pm']"
      ]
     },
     "execution_count": 62,
     "metadata": {},
     "output_type": "execute_result"
    }
   ],
   "source": [
    "basu[3]='y2b'\n",
    "basu"
   ]
  },
  {
   "cell_type": "code",
   "execution_count": 71,
   "metadata": {},
   "outputs": [
    {
     "data": {
      "text/plain": [
       "['yashas',\n",
       " ['pm', 'y2b'],\n",
       " ['pm', 'y2b'],\n",
       " 'y2b',\n",
       " 'pm',\n",
       " 'pm',\n",
       " 'pm',\n",
       " 'pm',\n",
       " 'ned',\n",
       " 'rod',\n",
       " 'todd']"
      ]
     },
     "execution_count": 71,
     "metadata": {},
     "output_type": "execute_result"
    }
   ],
   "source": [
    "# concatenate lists (slower than 'extend' method)\n",
    "yuv = basu + ['ned', 'rod', 'todd']\n",
    "yuv\n"
   ]
  },
  {
   "cell_type": "markdown",
   "metadata": {},
   "source": [
    "Find elements in a list:"
   ]
  },
  {
   "cell_type": "code",
   "execution_count": 89,
   "metadata": {},
   "outputs": [
    {
     "data": {
      "text/plain": [
       "['yashas', ['pm', 'y2b'], ['pm', 'y2b'], 'y2b', 'pm', 'pm', 'pm', 'pm']"
      ]
     },
     "execution_count": 89,
     "metadata": {},
     "output_type": "execute_result"
    }
   ],
   "source": [
    "# counts the number of instances\n",
    "basu.count('pm')\n",
    "basu"
   ]
  },
  {
   "cell_type": "code",
   "execution_count": 90,
   "metadata": {},
   "outputs": [
    {
     "data": {
      "text/plain": [
       "0"
      ]
     },
     "execution_count": 90,
     "metadata": {},
     "output_type": "execute_result"
    }
   ],
   "source": [
    "basu.index('yashas')"
   ]
  },
  {
   "cell_type": "markdown",
   "metadata": {},
   "source": [
    "List Slicing"
   ]
  },
  {
   "cell_type": "code",
   "execution_count": 98,
   "metadata": {},
   "outputs": [
    {
     "data": {
      "text/plain": [
       "['mon', 'tues', 'wed', 'thurs', 'fri']"
      ]
     },
     "execution_count": 98,
     "metadata": {},
     "output_type": "execute_result"
    }
   ],
   "source": [
    "weekdays = ['mon', 'tues', 'wed', 'thurs', 'fri']\n",
    "weekdays"
   ]
  },
  {
   "cell_type": "code",
   "execution_count": 100,
   "metadata": {},
   "outputs": [
    {
     "data": {
      "text/plain": [
       "'mon'"
      ]
     },
     "execution_count": 100,
     "metadata": {},
     "output_type": "execute_result"
    }
   ],
   "source": [
    "weekdays[0]"
   ]
  },
  {
   "cell_type": "code",
   "execution_count": 103,
   "metadata": {},
   "outputs": [
    {
     "data": {
      "text/plain": [
       "['wed']"
      ]
     },
     "execution_count": 103,
     "metadata": {},
     "output_type": "execute_result"
    }
   ],
   "source": [
    "weekdays[2:3]"
   ]
  },
  {
   "cell_type": "code",
   "execution_count": 105,
   "metadata": {},
   "outputs": [
    {
     "data": {
      "text/plain": [
       "['mon', 'tues', 'wed']"
      ]
     },
     "execution_count": 105,
     "metadata": {},
     "output_type": "execute_result"
    }
   ],
   "source": [
    "weekdays[:3]"
   ]
  },
  {
   "cell_type": "code",
   "execution_count": 107,
   "metadata": {},
   "outputs": [
    {
     "data": {
      "text/plain": [
       "['thurs', 'fri']"
      ]
     },
     "execution_count": 107,
     "metadata": {},
     "output_type": "execute_result"
    }
   ],
   "source": [
    "weekdays[3:]"
   ]
  },
  {
   "cell_type": "code",
   "execution_count": 109,
   "metadata": {},
   "outputs": [
    {
     "data": {
      "text/plain": [
       "'fri'"
      ]
     },
     "execution_count": 109,
     "metadata": {},
     "output_type": "execute_result"
    }
   ],
   "source": [
    "weekdays[-1]"
   ]
  },
  {
   "cell_type": "code",
   "execution_count": 119,
   "metadata": {},
   "outputs": [
    {
     "data": {
      "text/plain": [
       "['mon', 'thurs']"
      ]
     },
     "execution_count": 119,
     "metadata": {},
     "output_type": "execute_result"
    }
   ],
   "source": [
    "# every 2nd element (step by 2)\n",
    "weekdays[::3]"
   ]
  },
  {
   "cell_type": "code",
   "execution_count": 129,
   "metadata": {},
   "outputs": [
    {
     "data": {
      "text/plain": [
       "['fri', 'tues']"
      ]
     },
     "execution_count": 129,
     "metadata": {},
     "output_type": "execute_result"
    }
   ],
   "source": [
    "# backwards (step by -1)\n",
    "weekdays[::-3]\n"
   ]
  },
  {
   "cell_type": "code",
   "execution_count": 130,
   "metadata": {},
   "outputs": [
    {
     "data": {
      "text/plain": [
       "['fri', 'thurs', 'wed', 'tues', 'mon']"
      ]
     },
     "execution_count": 130,
     "metadata": {},
     "output_type": "execute_result"
    }
   ],
   "source": [
    "# alternative method for returning the list backwards\n",
    "list(reversed(weekdays))"
   ]
  },
  {
   "cell_type": "markdown",
   "metadata": {},
   "source": [
    "Sort a list in place (modifies but does not return the list):"
   ]
  },
  {
   "cell_type": "code",
   "execution_count": 154,
   "metadata": {},
   "outputs": [
    {
     "data": {
      "text/plain": [
       "['gu', 'hu', 'ju', 'ku', 'lu', 'yu']"
      ]
     },
     "execution_count": 154,
     "metadata": {},
     "output_type": "execute_result"
    }
   ],
   "source": [
    "yuvan=['yu','hu','gu','ju','lu','ku']\n",
    "yuvan\n",
    "\n",
    "yuvan.sort()\n",
    "yuvan\n"
   ]
  },
  {
   "cell_type": "code",
   "execution_count": 156,
   "metadata": {},
   "outputs": [
    {
     "data": {
      "text/plain": [
       "['yu', 'lu', 'ku', 'ju', 'hu', 'gu']"
      ]
     },
     "execution_count": 156,
     "metadata": {},
     "output_type": "execute_result"
    }
   ],
   "source": [
    "yuvan.sort(reverse=True)\n",
    "yuvan"
   ]
  },
  {
   "cell_type": "code",
   "execution_count": 158,
   "metadata": {},
   "outputs": [
    {
     "data": {
      "text/plain": [
       "['yu', 'lu', 'ku', 'ju', 'hu', 'gu']"
      ]
     },
     "execution_count": 158,
     "metadata": {},
     "output_type": "execute_result"
    }
   ],
   "source": [
    "# sort by a key\n",
    "yuvan.sort(key=len)\n",
    "yuvan"
   ]
  },
  {
   "cell_type": "markdown",
   "metadata": {},
   "source": [
    "Return a sorted list (does not modify the original list):"
   ]
  },
  {
   "cell_type": "code",
   "execution_count": 160,
   "metadata": {},
   "outputs": [
    {
     "data": {
      "text/plain": [
       "['gu', 'hu', 'ju', 'ku', 'lu', 'yu']"
      ]
     },
     "execution_count": 160,
     "metadata": {},
     "output_type": "execute_result"
    }
   ],
   "source": [
    "sorted(yuvan)"
   ]
  },
  {
   "cell_type": "code",
   "execution_count": 162,
   "metadata": {},
   "outputs": [
    {
     "data": {
      "text/plain": [
       "['yu', 'lu', 'ku', 'ju', 'hu', 'gu']"
      ]
     },
     "execution_count": 162,
     "metadata": {},
     "output_type": "execute_result"
    }
   ],
   "source": [
    "sorted(yuvan ,reverse=True)"
   ]
  },
  {
   "cell_type": "code",
   "execution_count": 165,
   "metadata": {},
   "outputs": [
    {
     "data": {
      "text/plain": [
       "['yu', 'lu', 'ku', 'ju', 'hu', 'gu']"
      ]
     },
     "execution_count": 165,
     "metadata": {},
     "output_type": "execute_result"
    }
   ],
   "source": [
    "sorted(yuvan, key=len)"
   ]
  },
  {
   "cell_type": "markdown",
   "metadata": {},
   "source": [
    "Insert into an already sorted list, and keep it sorted:"
   ]
  },
  {
   "cell_type": "code",
   "execution_count": 169,
   "metadata": {},
   "outputs": [
    {
     "data": {
      "text/plain": [
       "[10, 20, 30, 40, 45, 50, 60, 70, 80, 90]"
      ]
     },
     "execution_count": 169,
     "metadata": {},
     "output_type": "execute_result"
    }
   ],
   "source": [
    "num=[10,20,30,40,50,60,70,80,90]\n",
    "from bisect import insort\n",
    "insort(num,45)\n",
    "num"
   ]
  },
  {
   "cell_type": "markdown",
   "metadata": {},
   "source": [
    "Object references and copies:"
   ]
  },
  {
   "cell_type": "code",
   "execution_count": 171,
   "metadata": {},
   "outputs": [],
   "source": [
    "# create a second reference to the same list\n",
    "same_num=num"
   ]
  },
  {
   "cell_type": "code",
   "execution_count": 176,
   "metadata": {},
   "outputs": [
    {
     "name": "stdout",
     "output_type": "stream",
     "text": [
      "[55, 20, 30, 40, 45, 50, 60, 70, 80, 90]\n",
      "[55, 20, 30, 40, 45, 50, 60, 70, 80, 90]\n"
     ]
    }
   ],
   "source": [
    "same_num[0]=55\n",
    "print(same_num)\n",
    "print(num)"
   ]
  },
  {
   "cell_type": "code",
   "execution_count": 181,
   "metadata": {},
   "outputs": [
    {
     "data": {
      "text/plain": [
       "[55, 20, 30, 40, 45, 50, 60, 70, 80, 90]"
      ]
     },
     "execution_count": 181,
     "metadata": {},
     "output_type": "execute_result"
    }
   ],
   "source": [
    "# copy a list (two ways)\n",
    "new=num[:]\n",
    "new=list(num)\n",
    "new"
   ]
  },
  {
   "cell_type": "code",
   "execution_count": null,
   "metadata": {},
   "outputs": [],
   "source": []
  }
 ],
 "metadata": {
  "kernelspec": {
   "display_name": "Python 3",
   "language": "python",
   "name": "python3"
  },
  "language_info": {
   "codemirror_mode": {
    "name": "ipython",
    "version": 3
   },
   "file_extension": ".py",
   "mimetype": "text/x-python",
   "name": "python",
   "nbconvert_exporter": "python",
   "pygments_lexer": "ipython3",
   "version": "3.7.3"
  }
 },
 "nbformat": 4,
 "nbformat_minor": 4
}
